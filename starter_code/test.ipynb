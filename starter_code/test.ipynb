{
 "cells": [
  {
   "cell_type": "code",
   "execution_count": 3,
   "id": "ce5cf417",
   "metadata": {},
   "outputs": [
    {
     "data": {
      "text/plain": [
       "(7500, 5, ['reviewText', 'unixReviewTime', 'reviewTime', 'rating', 'label'])"
      ]
     },
     "execution_count": 3,
     "metadata": {},
     "output_type": "execute_result"
    }
   ],
   "source": [
    "import pandas as pd\n",
    "\n",
    "# Load the dataset to analyze the number of columns\n",
    "# Replace '/mnt/data/dataset.csv' with the actual path if needed in a different environment\n",
    "dataset_path = 'data/dataset.csv'\n",
    "dataset = pd.read_csv(dataset_path)\n",
    "\n",
    "# Get the number of columns and display column names for further inspection\n",
    "num_row = len(dataset)\n",
    "num_columns = len(dataset.columns)\n",
    "column_names = dataset.columns.tolist()\n",
    "\n",
    "num_row, num_columns, column_names"
   ]
  },
  {
   "cell_type": "code",
   "execution_count": null,
   "id": "528fde96",
   "metadata": {},
   "outputs": [],
   "source": []
  }
 ],
 "metadata": {
  "kernelspec": {
   "display_name": "Python 3 (ipykernel)",
   "language": "python",
   "name": "python3"
  },
  "language_info": {
   "codemirror_mode": {
    "name": "ipython",
    "version": 3
   },
   "file_extension": ".py",
   "mimetype": "text/x-python",
   "name": "python",
   "nbconvert_exporter": "python",
   "pygments_lexer": "ipython3",
   "version": "3.11.5"
  }
 },
 "nbformat": 4,
 "nbformat_minor": 5
}
